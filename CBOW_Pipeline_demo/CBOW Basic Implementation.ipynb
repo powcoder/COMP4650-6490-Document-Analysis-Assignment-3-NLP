{
 "cells": [
  {
   "cell_type": "markdown",
   "metadata": {},
   "source": [
    "Logistic Regression for CBOW\n",
    "-----------------------------------------------\n",
    "\n",
    "This is a basic and not-scalable implementation of CBOW without considering scalability issue. A more scalable implementation can be found at <a href=\"https://github.com/tensorflow/tensorflow/blob/r0.10/tensorflow/examples/tutorials/word2vec/word2vec_basic.py\">word2vec basic implementation on Tensorflow</a>"
   ]
  },
  {
   "cell_type": "code",
   "execution_count": 185,
   "metadata": {
    "nbpresent": {
     "id": "fcef795d-8cd1-430d-865a-7c6db1290a91"
    }
   },
   "outputs": [],
   "source": [
    "import tensorflow as tf\n",
    "import numpy as np\n",
    "from nltk import word_tokenize\n",
    "from random import shuffle\n",
    "import os"
   ]
  },
  {
   "cell_type": "code",
   "execution_count": 186,
   "metadata": {},
   "outputs": [],
   "source": [
    "train_ngrams = ['study in the united states',\n",
    "'live in new zealand',\n",
    "'study in canada UNK canadian',\n",
    "'study in the january NUM',\n",
    "'stay in the new england',\n",
    "'study in the december NUM',\n",
    "'study in the us PUN',\n",
    "'live in the us END_S',\n",
    "'study in the united kingdom'\n",
    "'live in the usa PUN'\n",
    "'study in clinical trials PUN',\n",
    "'work in the united states',\n",
    "'work in australia PUN',\n",
    "'its meeting on NUM january',\n",
    "'annual meeting on NUM december',\n",
    "'a meeting on january NUM',\n",
    "'ordinary meeting on NUM december',\n",
    "'regular meeting of february NUM']\n",
    "\n",
    "dev_ngrams = ['study in China',\n",
    "'study in new zealand',\n",
    "'live in canada',\n",
    "'work in the january NUM',\n",
    "'live in the new england',\n",
    "'a meeting in the december NUM',\n",
    "'live in the us PUN',\n",
    "'work in the us END_S',\n",
    "'stay in the united kingdom'\n",
    "'work in the usa PUN',\n",
    "'stay in australia PUN',\n",
    "'work in australia PUN',\n",
    "'its meeting on NUM december',\n",
    "'a meeting on january NUM',\n",
    "'ordinary meeting on NUM november']"
   ]
  },
  {
   "cell_type": "code",
   "execution_count": 187,
   "metadata": {},
   "outputs": [],
   "source": [
    "import collections\n",
    "from collections import namedtuple\n",
    "Ngram = namedtuple('Ngram', 'context c_word')"
   ]
  },
  {
   "cell_type": "code",
   "execution_count": 188,
   "metadata": {},
   "outputs": [],
   "source": [
    "def tokenize(ngram):\n",
    "    return word_tokenize(ngram)"
   ]
  },
  {
   "cell_type": "markdown",
   "metadata": {},
   "source": [
    "## Build vocabulary"
   ]
  },
  {
   "cell_type": "code",
   "execution_count": 189,
   "metadata": {},
   "outputs": [],
   "source": [
    "def build_vocab(train_set):\n",
    "    words = list()\n",
    "    for ngram in train_set:\n",
    "        tokens = tokenize(ngram)\n",
    "        words.extend(tokens)\n",
    "    count = collections.Counter(words).most_common()\n",
    "    word_to_id = dict()\n",
    "    word_to_id['PAD'] = 0\n",
    "    for word, _ in count:\n",
    "        word_to_id[word] = len(word_to_id)\n",
    "    id_to_word = dict(zip(word_to_id.values(), word_to_id.keys()))\n",
    "    return word_to_id, id_to_word"
   ]
  },
  {
   "cell_type": "markdown",
   "metadata": {},
   "source": [
    "Map each word to its ID and build the reverse map."
   ]
  },
  {
   "cell_type": "code",
   "execution_count": 190,
   "metadata": {},
   "outputs": [],
   "source": [
    "def map_token_seq_to_word_id_seq(token_seq, word_to_id):\n",
    "    return [map_word_to_id(word_to_id,word) for word in token_seq]\n",
    "\n",
    "\n",
    "def map_word_to_id(word_to_id, word):\n",
    "    if word in word_to_id:\n",
    "        return word_to_id[word]\n",
    "    else:\n",
    "        return word_to_id['PAD']\n"
   ]
  },
  {
   "cell_type": "markdown",
   "metadata": {},
   "source": [
    "Build a training dataset. Each instance(data point) consists of the ID of a word and the IDs of its context words."
   ]
  },
  {
   "cell_type": "code",
   "execution_count": 191,
   "metadata": {},
   "outputs": [],
   "source": [
    "def build_dataset(train_set, word_to_id, window_size):\n",
    "    dataset = list()\n",
    "    for ngram in train_set:\n",
    "        tokens = tokenize(ngram)\n",
    "        word_id_seq = map_token_seq_to_word_id_seq(tokens, word_to_id)\n",
    "        for i in range(len(word_id_seq)):\n",
    "            word_context = [word_to_id['PAD']] * 2 * window_size\n",
    "            for p_in_context in range(window_size):\n",
    "                # position to the left of the current word in the given ngram\n",
    "                p_left_ngram = i - window_size + p_in_context\n",
    "                if p_left_ngram >= 0:\n",
    "                    word_context[p_in_context] = word_id_seq[p_left_ngram]\n",
    "                # position to the right of the current word in the given ngram\n",
    "                p_right_ngram = i + p_in_context + 1\n",
    "                if p_right_ngram < len(word_id_seq):\n",
    "                    word_context[p_in_context + window_size] = word_id_seq[p_right_ngram]\n",
    "            # word_context is the list of context word ids. c_word is the id of the current word.\n",
    "            ngram_inst = Ngram(context=word_context, c_word=word_id_seq[i])\n",
    "            dataset.append(ngram_inst)\n",
    "    return dataset"
   ]
  },
  {
   "cell_type": "code",
   "execution_count": 192,
   "metadata": {},
   "outputs": [],
   "source": [
    "def print_dataset(dataset, id_to_word):\n",
    "    for inst in dataset:\n",
    "        print(\"%s : %s\" % ([id_to_word[id] for id in inst.context], id_to_word[inst.c_word]))"
   ]
  },
  {
   "cell_type": "code",
   "execution_count": 115,
   "metadata": {},
   "outputs": [
    {
     "name": "stdout",
     "output_type": "stream",
     "text": [
      "['PAD', 'PAD', 'in', 'the'] : study\n",
      "['PAD', 'study', 'the', 'united'] : in\n",
      "['study', 'in', 'united', 'states'] : the\n",
      "['in', 'the', 'states', 'PAD'] : united\n",
      "['the', 'united', 'PAD', 'PAD'] : states\n",
      "['PAD', 'PAD', 'in', 'new'] : live\n",
      "['PAD', 'live', 'new', 'zealand'] : in\n",
      "['live', 'in', 'zealand', 'PAD'] : new\n",
      "['in', 'new', 'PAD', 'PAD'] : zealand\n",
      "['PAD', 'PAD', 'in', 'canada'] : study\n",
      "['PAD', 'study', 'canada', 'UNK'] : in\n",
      "['study', 'in', 'UNK', 'canadian'] : canada\n",
      "['in', 'canada', 'canadian', 'PAD'] : UNK\n",
      "['canada', 'UNK', 'PAD', 'PAD'] : canadian\n",
      "['PAD', 'PAD', 'in', 'the'] : study\n",
      "['PAD', 'study', 'the', 'january'] : in\n",
      "['study', 'in', 'january', 'NUM'] : the\n",
      "['in', 'the', 'NUM', 'PAD'] : january\n",
      "['the', 'january', 'PAD', 'PAD'] : NUM\n",
      "['PAD', 'PAD', 'in', 'the'] : stay\n",
      "['PAD', 'stay', 'the', 'new'] : in\n",
      "['stay', 'in', 'new', 'england'] : the\n",
      "['in', 'the', 'england', 'PAD'] : new\n",
      "['the', 'new', 'PAD', 'PAD'] : england\n",
      "['PAD', 'PAD', 'in', 'the'] : study\n",
      "['PAD', 'study', 'the', 'december'] : in\n",
      "['study', 'in', 'december', 'NUM'] : the\n",
      "['in', 'the', 'NUM', 'PAD'] : december\n",
      "['the', 'december', 'PAD', 'PAD'] : NUM\n",
      "['PAD', 'PAD', 'in', 'the'] : study\n",
      "['PAD', 'study', 'the', 'us'] : in\n",
      "['study', 'in', 'us', 'PUN'] : the\n",
      "['in', 'the', 'PUN', 'PAD'] : us\n",
      "['the', 'us', 'PAD', 'PAD'] : PUN\n",
      "['PAD', 'PAD', 'in', 'the'] : live\n",
      "['PAD', 'live', 'the', 'us'] : in\n",
      "['live', 'in', 'us', 'END_S'] : the\n",
      "['in', 'the', 'END_S', 'PAD'] : us\n",
      "['the', 'us', 'PAD', 'PAD'] : END_S\n",
      "['PAD', 'PAD', 'in', 'the'] : study\n",
      "['PAD', 'study', 'the', 'united'] : in\n",
      "['study', 'in', 'united', 'kingdomlive'] : the\n",
      "['in', 'the', 'kingdomlive', 'in'] : united\n",
      "['the', 'united', 'in', 'the'] : kingdomlive\n",
      "['united', 'kingdomlive', 'the', 'usa'] : in\n",
      "['kingdomlive', 'in', 'usa', 'PUNstudy'] : the\n",
      "['in', 'the', 'PUNstudy', 'in'] : usa\n",
      "['the', 'usa', 'in', 'clinical'] : PUNstudy\n",
      "['usa', 'PUNstudy', 'clinical', 'trials'] : in\n",
      "['PUNstudy', 'in', 'trials', 'PUN'] : clinical\n",
      "['in', 'clinical', 'PUN', 'PAD'] : trials\n",
      "['clinical', 'trials', 'PAD', 'PAD'] : PUN\n",
      "['PAD', 'PAD', 'in', 'the'] : work\n",
      "['PAD', 'work', 'the', 'united'] : in\n",
      "['work', 'in', 'united', 'states'] : the\n",
      "['in', 'the', 'states', 'PAD'] : united\n",
      "['the', 'united', 'PAD', 'PAD'] : states\n",
      "['PAD', 'PAD', 'in', 'australia'] : work\n",
      "['PAD', 'work', 'australia', 'PUN'] : in\n",
      "['work', 'in', 'PUN', 'PAD'] : australia\n",
      "['in', 'australia', 'PAD', 'PAD'] : PUN\n",
      "['PAD', 'PAD', 'meeting', 'on'] : its\n",
      "['PAD', 'its', 'on', 'NUM'] : meeting\n",
      "['its', 'meeting', 'NUM', 'january'] : on\n",
      "['meeting', 'on', 'january', 'PAD'] : NUM\n",
      "['on', 'NUM', 'PAD', 'PAD'] : january\n",
      "['PAD', 'PAD', 'meeting', 'on'] : annual\n",
      "['PAD', 'annual', 'on', 'NUM'] : meeting\n",
      "['annual', 'meeting', 'NUM', 'december'] : on\n",
      "['meeting', 'on', 'december', 'PAD'] : NUM\n",
      "['on', 'NUM', 'PAD', 'PAD'] : december\n",
      "['PAD', 'PAD', 'meeting', 'on'] : a\n",
      "['PAD', 'a', 'on', 'january'] : meeting\n",
      "['a', 'meeting', 'january', 'NUM'] : on\n",
      "['meeting', 'on', 'NUM', 'PAD'] : january\n",
      "['on', 'january', 'PAD', 'PAD'] : NUM\n",
      "['PAD', 'PAD', 'meeting', 'on'] : ordinary\n",
      "['PAD', 'ordinary', 'on', 'NUM'] : meeting\n",
      "['ordinary', 'meeting', 'NUM', 'december'] : on\n",
      "['meeting', 'on', 'december', 'PAD'] : NUM\n",
      "['on', 'NUM', 'PAD', 'PAD'] : december\n",
      "['PAD', 'PAD', 'meeting', 'of'] : regular\n",
      "['PAD', 'regular', 'of', 'february'] : meeting\n",
      "['regular', 'meeting', 'february', 'NUM'] : of\n",
      "['meeting', 'of', 'NUM', 'PAD'] : february\n",
      "['of', 'february', 'PAD', 'PAD'] : NUM\n"
     ]
    }
   ],
   "source": [
    "word_to_id, id_to_word = build_vocab(train_ngrams)\n",
    "train_set = build_dataset(train_ngrams, word_to_id, 2)\n",
    "dev_set = build_dataset(dev_ngrams, word_to_id, 2)\n",
    "print_dataset(train_set, id_to_word)"
   ]
  },
  {
   "cell_type": "markdown",
   "metadata": {},
   "source": [
    "Convert label y = word_id into its vector format with 1-of-K encoding.  "
   ]
  },
  {
   "cell_type": "code",
   "execution_count": 116,
   "metadata": {},
   "outputs": [],
   "source": [
    "def convert_to_label_vec(word_id, num_words):\n",
    "    # initialise a zero vector of the length num_words\n",
    "    label_vec = np.zeros(shape = (num_words, 1))\n",
    "    label_vec[word_id] = 1\n",
    "    return label_vec"
   ]
  },
  {
   "attachments": {
    "cbow.png": {
     "image/png": "[encoded data removed]"
    }
   },
   "cell_type": "markdown",
   "metadata": {},
   "source": [
    "## CBOW\n",
    "\n",
    "![cbow.png](attachment:cbow.png)"
   ]
  },
  {
   "cell_type": "code",
   "execution_count": 166,
   "metadata": {},
   "outputs": [],
   "source": [
    "class CBOW(object):\n",
    "    \"\"\"\n",
    "      This is for understanding the key ideas behind CBOW. Unknown words are simply mapped to pad words. \n",
    "      Correct procesing of pad words are left as an exercise.\n",
    "      A more scalable solution is described in https://www.tensorflow.org/tutorials/word2vec.\n",
    "    \"\"\"\n",
    "    def __init__(self, num_words,learning_rate, embedding_dim):\n",
    "        \"\"\"Init the model with default parameters/hyperparameters.\"\"\"\n",
    "        self.num_words = num_words\n",
    "        self.embedding_dim = embedding_dim\n",
    "        self.learning_rate = learning_rate\n",
    "        \n",
    "    def build_graph(self):\n",
    "        self.declare_placeholders()\n",
    "        self.declare_variables()\n",
    "        self.inference()\n",
    "        self.optimize()\n",
    "        self.predict()\n",
    "        self.compute_accuracy()\n",
    "        self.performancy_summaries()\n",
    "        \n",
    "    def declare_placeholders(self):\n",
    "        with tf.name_scope('CBOW'):\n",
    "            self.input_ngram = tf.placeholder(tf.int32, shape = [None], name = 'inputNgram')\n",
    "            self.correct_label = tf.placeholder(tf.float32, shape=[self.num_words, 1], name = 'trueLabel')\n",
    "        \n",
    "    def declare_variables(self):\n",
    "        with tf.name_scope('CBOW'):\n",
    "            # Word embeddings are the only parameters of the model\n",
    "            self.embeddings = tf.Variable(tf.random_uniform([self.num_words, self.embedding_dim], -1.0, 1.0), name='embedding')\n",
    "    \n",
    "    def inference(self):\n",
    "        \"\"\"Compute the logits of x.\"\"\"\n",
    "        # retrieve the row vectors for each context word.\n",
    "        embed = tf.nn.embedding_lookup(self.embeddings, self.input_ngram)\n",
    "        tmp_m = tf.reduce_sum(embed, 0)\n",
    "        sum_rep = tf.reshape(tmp_m, [self.embedding_dim, 1])\n",
    "        # Formulate word embedding learning as a word prediction task. Note that, no negative sampling is applied here.\n",
    "        self.logit = tf.matmul(self.embeddings, sum_rep, name = 'logit')\n",
    "        self.y = tf.nn.softmax(self.logit, axis = 0)\n",
    "    \n",
    "    def optimize(self):\n",
    "        \"\"\"Train a CBOW model from scratch.\"\"\"\n",
    "        self.loss()\n",
    "        self.train_step = tf.train.GradientDescentOptimizer(self.learning_rate).minimize(self.cross_entropy)\n",
    "        \n",
    "    def compute_accuracy(self):\n",
    "        \"\"\"Evaluate the model against a test/validation set\"\"\"\n",
    "        self.accuracy = tf.cast(self.eval_prediction, tf.float32, name = 'accuracy')\n",
    "        \n",
    "    def loss_summary(self):\n",
    "        self.loss_ph = tf.placeholder(tf.float32,shape=None,name='loss_summary')\n",
    "        # Create a scalar summary object for the loss.\n",
    "        self.loss_summary = tf.summary.scalar('Loss', self.loss_ph)\n",
    "    \n",
    "    def accuracy_summary(self):\n",
    "        # Feed the mean of validation accuracy to this placeholder.\n",
    "        self.accuracy_ph = tf.placeholder(tf.float32,shape=None, name='accuracy_summary')\n",
    "        # Create a scalar summary object for the accuracy.\n",
    "        self.accuracy_summary = tf.summary.scalar('Accuracy', self.accuracy_ph)\n",
    "\n",
    "    def performancy_summaries(self):\n",
    "        # https://www.datacamp.com/community/tutorials/tensorboard-tutorial\n",
    "        self.loss_summary()\n",
    "        self.accuracy_summary()\n",
    "        self.performance_summaries = tf.summary.merge([self.loss_summary,self.accuracy_summary])\n",
    "        \n",
    "    def predict(self):\n",
    "        self.eval_prediction = tf.equal(tf.argmax(self.y, 0), tf.argmax(self.correct_label, 0))\n",
    "    \n",
    "    def loss(self):\n",
    "        \"\"\"Compute the loss of a batch.\"\"\"\n",
    "        # Not scalable\n",
    "        self.cross_entropy = tf.reduce_mean(-tf.reduce_sum(self.correct_label * tf.log(self.y), reduction_indices=0), name='crossEntropy')\n",
    "        # Or use tf.nn.softmax_cross_entropy_with_logits_v2\n",
    "        # Apply NCE https://www.tensorflow.org/api_docs/python/tf/nn/nce_loss for a scalable solution"
   ]
  },
  {
   "cell_type": "code",
   "execution_count": 182,
   "metadata": {},
   "outputs": [],
   "source": [
    "def train_eval(word_to_id, train_dataset, dev_dataset, num_epochs=10, learning_rate=0.05, embedding_dim=10):\n",
    "    \n",
    "    num_words = len(word_to_id)\n",
    "    model = CBOW(num_words,learning_rate, embedding_dim)\n",
    "    model.build_graph()\n",
    "    with tf.Session() as sess:\n",
    "        sess.run(tf.global_variables_initializer())\n",
    "        summary_writer = tf.summary.FileWriter(os.path.join('summaries','cbow'), sess.graph)\n",
    "        #print(model.embeddings.eval())\n",
    "        for epoch in range(num_epochs):\n",
    "            shuffle(train_dataset)\n",
    "            loss_per_epoch = []\n",
    "            for ngram_inst in train_dataset:\n",
    "                # Run one step of SGD to update word embeddings.\n",
    "                optimizer, loss = sess.run([model.train_step, model.cross_entropy], feed_dict={model.input_ngram: ngram_inst.context, model.correct_label: convert_to_label_vec(ngram_inst.c_word, model.num_words)})\n",
    "                loss_per_epoch.append(loss)\n",
    "            # Print accuracy on train set.\n",
    "            # For early stopping, you are supposed to run the evaluation on a holdout/validation/development set.\n",
    "            mean_loss = np.mean(loss_per_epoch)\n",
    "            mean_accuracy = compute_accuracy(model, dev_dataset)[0]\n",
    "            print('Epoch %d : loss %s, accuracy on the validation set = %s .' % (epoch, mean_loss, mean_accuracy))\n",
    "            summ = sess.run(model.performance_summaries, feed_dict={model.loss_ph: mean_loss, model.accuracy_ph: mean_accuracy})\n",
    "            summary_writer.add_summary(summ, epoch)\n",
    "        mat = model.embeddings.eval()\n",
    "        id_to_word = {v: k for k, v in word_to_id.items()}\n",
    "        for i in range(1, 6):\n",
    "            print(\"%s : %s\" % (id_to_word[i], mat[i,:]))\n",
    "        summary_writer.close()"
   ]
  },
  {
   "cell_type": "code",
   "execution_count": 183,
   "metadata": {},
   "outputs": [],
   "source": [
    "def compute_accuracy(model, eval_dataset):\n",
    "    num_correct = 0\n",
    "    for ngram_inst in eval_dataset:\n",
    "        num_correct += model.accuracy.eval(feed_dict={model.input_ngram: ngram_inst.context, model.correct_label: convert_to_label_vec(ngram_inst.c_word, model.num_words)})\n",
    "    print('#correct words is %s ' % num_correct)\n",
    "    return num_correct / len(eval_dataset)"
   ]
  },
  {
   "cell_type": "code",
   "execution_count": 184,
   "metadata": {},
   "outputs": [
    {
     "name": "stdout",
     "output_type": "stream",
     "text": [
      "#correct words is [3.] \n",
      "Epoch 0 : loss 4.8864555, accuracy on the validation set = 0.04411765 .\n",
      "#correct words is [6.] \n",
      "Epoch 1 : loss 3.192488, accuracy on the validation set = 0.0882353 .\n",
      "#correct words is [8.] \n",
      "Epoch 2 : loss 2.7849176, accuracy on the validation set = 0.11764706 .\n",
      "#correct words is [7.] \n",
      "Epoch 3 : loss 2.595817, accuracy on the validation set = 0.10294118 .\n",
      "#correct words is [12.] \n",
      "Epoch 4 : loss 2.4004643, accuracy on the validation set = 0.1764706 .\n",
      "#correct words is [12.] \n",
      "Epoch 5 : loss 2.292349, accuracy on the validation set = 0.1764706 .\n",
      "#correct words is [11.] \n",
      "Epoch 6 : loss 2.2330701, accuracy on the validation set = 0.16176471 .\n",
      "#correct words is [11.] \n",
      "Epoch 7 : loss 2.1780326, accuracy on the validation set = 0.16176471 .\n",
      "#correct words is [9.] \n",
      "Epoch 8 : loss 2.1063523, accuracy on the validation set = 0.13235295 .\n",
      "#correct words is [9.] \n",
      "Epoch 9 : loss 2.042526, accuracy on the validation set = 0.13235295 .\n",
      "in : [ 0.54375756 -0.80358404 -0.03696827 -0.22846012  0.3014317  -0.68645465\n",
      " -0.2557092  -0.37585455 -1.0058671  -0.28519183]\n",
      "the : [-0.03707764 -1.0812091   0.3685248   0.12034442  0.31343657 -0.6908641\n",
      " -0.07922737 -0.62371945 -0.70097303 -0.97070074]\n",
      "NUM : [-0.68572867  0.16800906  1.0169269   0.62699234  0.1148799  -0.93008035\n",
      "  0.9508684  -0.19749774  0.30665344  0.0661036 ]\n",
      "study : [ 0.65097535 -0.98623186 -0.89786065 -0.52124304  0.42858827 -0.1854351\n",
      " -0.0657532   0.16663909 -1.0008036   0.03646107]\n",
      "meeting : [ 0.03745906  0.24364372  0.21580595  0.19772951 -0.02282691 -0.20816785\n",
      "  0.22794622 -0.04382088  1.4665569  -0.80692285]\n"
     ]
    }
   ],
   "source": [
    "train_eval(word_to_id, train_set, dev_set)"
   ]
  },
  {
   "cell_type": "code",
   "execution_count": null,
   "metadata": {
    "collapsed": true
   },
   "outputs": [],
   "source": []
  }
 ],
 "metadata": {
  "anaconda-cloud": {},
  "kernelspec": {
   "display_name": "Python 3",
   "language": "python",
   "name": "python3"
  },
  "language_info": {
   "codemirror_mode": {
    "name": "ipython",
    "version": 3
   },
   "file_extension": ".py",
   "mimetype": "text/x-python",
   "name": "python",
   "nbconvert_exporter": "python",
   "pygments_lexer": "ipython3",
   "version": "3.6.6"
  },
  "nbpresent": {
   "slides": {
    "0c929226-b8aa-4f81-9dd7-b9f9c868cb2f": {
     "id": "0c929226-b8aa-4f81-9dd7-b9f9c868cb2f",
     "prev": null,
     "regions": {
      "9850417f-328a-427c-98ce-31c3042e594d": {
       "attrs": {
        "height": 0.8,
        "width": 0.45,
        "x": 0.05,
        "y": 0.1
       },
       "id": "9850417f-328a-427c-98ce-31c3042e594d"
      },
      "c199cf9b-d4f5-4fb1-8d5f-6d5263b6e0f1": {
       "attrs": {
        "height": 0.8,
        "width": 0.45,
        "x": 0.5,
        "y": 0.1
       },
       "id": "c199cf9b-d4f5-4fb1-8d5f-6d5263b6e0f1"
      }
     }
    }
   },
   "themes": {}
  }
 },
 "nbformat": 4,
 "nbformat_minor": 1
}
